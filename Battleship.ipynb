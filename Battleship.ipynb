{
  "nbformat": 4,
  "nbformat_minor": 0,
  "metadata": {
    "colab": {
      "name": "Battleship.ipynb",
      "provenance": [],
      "collapsed_sections": [],
      "include_colab_link": true
    },
    "kernelspec": {
      "name": "python3",
      "display_name": "Python 3"
    }
  },
  "cells": [
    {
      "cell_type": "markdown",
      "metadata": {
        "id": "view-in-github",
        "colab_type": "text"
      },
      "source": [
        "<a href=\"https://colab.research.google.com/github/wichza18/colab/blob/master/Battleship.ipynb\" target=\"_parent\"><img src=\"https://colab.research.google.com/assets/colab-badge.svg\" alt=\"Open In Colab\"/></a>"
      ]
    },
    {
      "cell_type": "code",
      "metadata": {
        "id": "yC1BR0oIbVtl",
        "colab_type": "code",
        "outputId": "3096775b-11ce-4b2e-b025-6bc75e71ff49",
        "colab": {
          "base_uri": "https://localhost:8080/",
          "height": 527
        }
      },
      "source": [
        "from random import randint\n",
        "board = []\n",
        "rowsBoard = 5 #how many rows the board will have\n",
        "colsBoard = 5 #how many columns the board will have\n",
        "turnLimit = 4 #how many turns the user has to sink the b'ship\n",
        "guess_row = 0 #user's guess row\n",
        "guess_col = 0 #user's guess col\n",
        "\n",
        "#method to make updates to board and inform user of a (un)successful guess\n",
        "def sink_or_miss(round):\n",
        "  #booleans for readability in if statement below\n",
        "  rows_match = (ship_row == guess_row) #guess row = ship row\n",
        "  cols_match = (ship_col == guess_col) #guess col = ship col\n",
        "  #boolean to be returned by method, whether the game has been won or not\n",
        "  is_win = False\n",
        "  \n",
        "  #beginning checks based on user guess\n",
        "  if rows_match is True and cols_match is True:\n",
        "    print(\"Congratulations! You sank my battleship!\")\n",
        "    is_win = True\n",
        "    \n",
        "  #user did not win on this turn\n",
        "  else:\n",
        "    #if user guesses not w/in board range\n",
        "    if guess_row not in range(rowsBoard) or guess_col not in range(colsBoard):\n",
        "      print(\"Oops, that's not even in the ocean\")\n",
        "      \n",
        "    #if user guessed coords already\n",
        "    elif board[guess_row][guess_col] == \"X\":\n",
        "      print(\"You guessed that one already.\")\n",
        "      \n",
        "    #new miss\n",
        "    else:\n",
        "      print(\"You missed my battleship!\")\n",
        "      board[guess_row][guess_col] = \"X\"\n",
        "      print_board(board)\n",
        "      \n",
        "    #if this is last guess\n",
        "    if round == 3:\n",
        "      print(\"Game Over\")\n",
        "      print(\"The ship was at row: \", ship_row, \"column: \", ship_col)\n",
        "      \n",
        "  return is_win #return bool of game result\n",
        "\n",
        "#begin main section (non methods)\n",
        "#build the board based on # of rows & cols it should be\n",
        "for i in range(0, rowsBoard):\n",
        "  board.append([\"O\"] * colsBoard)\n",
        "  \n",
        "#show user the board\n",
        "print_board(board)\n",
        "\n",
        "#generate the hidden ship\n",
        "ship_row = random_row(board)\n",
        "ship_col = random_col(board)\n",
        "\n",
        "print(ship_row)\n",
        "print(ship_col)\n",
        "\n",
        "#loop through turns, stopping once turnLimit has been played\n",
        "for turn in range(turnLimit):\n",
        "  \n",
        "  print(\"Turn \", turn + 1)#tell user what turn it is\n",
        "  \n",
        "  #get user guesses\n",
        "  guess_row = guess_getter(\"Row\")\n",
        "  guess_col = guess_getter(\"Col\")\n",
        "  \n",
        "  #returns bool of turn result\n",
        "  #sink_or_miss method also alerts user based on guess\n",
        "  turn_result = sink_or_miss(turn)\n",
        "  \n",
        "  #if it is a win, break as we no longer need to guess\n",
        "  if turn_result is True:\n",
        "    break\n",
        "    \n",
        "#end main section  \n",
        "  \n",
        "  \n",
        "#method to print the board\n",
        "def print_board(board_in):\n",
        "  for i in range(0, len(board_in)):\n",
        "    print(\" \".join(board_in[i]))\n",
        "    \n",
        "#get a random row within board's row range    \n",
        "def random_row(board_in):\n",
        "  return randint(0, len(board_in) - 1)\n",
        "\n",
        "#get a random column within board's col range\n",
        "def random_col(board_in):\n",
        "  return randint(0, len(board_in) - 1)\n",
        "\n",
        "#prompt user for a guess of row or column and return their input (int)\n",
        "def guess_getter(row_col):\n",
        "  guess = int(input(row_col + \"s start with 0. Guess \" + row_col + \": \"))\n",
        "  return guess\n",
        "\n",
        "\n",
        "\n",
        "\n",
        "    \n",
        "\n",
        "   \n",
        "  \n",
        "  "
      ],
      "execution_count": 125,
      "outputs": [
        {
          "output_type": "stream",
          "text": [
            "O O O O O\n",
            "O O O O O\n",
            "O O O O O\n",
            "O O O O O\n",
            "O O O O O\n",
            "0\n",
            "2\n",
            "Turn  1\n",
            "Rows start with 0. Guess Row: 1\n",
            "Cols start with 0. Guess Col: 1\n",
            "You missed my battleship!\n",
            "O O O O O\n",
            "O X O O O\n",
            "O O O O O\n",
            "O O O O O\n",
            "O O O O O\n",
            "Turn  2\n",
            "Rows start with 0. Guess Row: 1\n",
            "Cols start with 0. Guess Col: 1\n",
            "You guessed that one already.\n",
            "Turn  3\n",
            "Rows start with 0. Guess Row: 1\n",
            "Cols start with 0. Guess Col: 1\n",
            "You guessed that one already.\n",
            "Turn  4\n",
            "Rows start with 0. Guess Row: 1\n",
            "Cols start with 0. Guess Col: 1\n",
            "You guessed that one already.\n",
            "Game Over\n",
            "The ship was at row:  0 column:  2\n"
          ],
          "name": "stdout"
        }
      ]
    },
    {
      "cell_type": "code",
      "metadata": {
        "id": "rPw7Pv-mq1XE",
        "colab_type": "code",
        "colab": {
          "base_uri": "https://localhost:8080/",
          "height": 34
        },
        "outputId": "3d2eb36f-c591-47a2-bb60-0b49bd65dc00"
      },
      "source": [
        "!google-drive-ocamlfuse -cc"
      ],
      "execution_count": 59,
      "outputs": [
        {
          "output_type": "stream",
          "text": [
            "/bin/bash: google-drive-ocamlfuse: command not found\n"
          ],
          "name": "stdout"
        }
      ]
    }
  ]
}